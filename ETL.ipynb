{
 "cells": [
  {
   "cell_type": "code",
   "execution_count": 1,
   "metadata": {
    "editable": true,
    "execution": {
     "iopub.execute_input": "2022-02-11T00:47:11.305221Z",
     "iopub.status.busy": "2022-02-11T00:47:11.304916Z",
     "iopub.status.idle": "2022-02-11T00:47:58.150342Z",
     "shell.execute_reply": "2022-02-11T00:47:58.149107Z",
     "shell.execute_reply.started": "2022-02-11T00:47:11.305185Z"
    }
   },
   "outputs": [
    {
     "data": {
      "application/vnd.jupyter.widget-view+json": {
       "model_id": "83f583766a504cdd9f7a2c4ceeffc932",
       "version_major": 2,
       "version_minor": 0
      },
      "text/plain": [
       "VBox()"
      ]
     },
     "metadata": {},
     "output_type": "display_data"
    },
    {
     "name": "stdout",
     "output_type": "stream",
     "text": [
      "Starting Spark application\n"
     ]
    },
    {
     "data": {
      "text/html": [
       "<table>\n",
       "<tr><th>ID</th><th>YARN Application ID</th><th>Kind</th><th>State</th><th>Spark UI</th><th>Driver log</th><th>Current session?</th></tr><tr><td>0</td><td>application_1644538333842_0001</td><td>pyspark</td><td>idle</td><td><a target=\"_blank\" href=\"http://ip-172-31-59-214.ec2.internal:20888/proxy/application_1644538333842_0001/\" class=\"emr-proxy-link\" emr-resource=\"j-3NU14FNMP0EOY\n",
       "\" application-id=\"application_1644538333842_0001\">Link</a></td><td><a target=\"_blank\" href=\"http://ip-172-31-62-191.ec2.internal:8042/node/containerlogs/container_1644538333842_0001_01_000001/livy\" >Link</a></td><td>✔</td></tr></table>"
      ],
      "text/plain": [
       "<IPython.core.display.HTML object>"
      ]
     },
     "metadata": {},
     "output_type": "display_data"
    },
    {
     "data": {
      "application/vnd.jupyter.widget-view+json": {
       "model_id": "",
       "version_major": 2,
       "version_minor": 0
      },
      "text/plain": [
       "FloatProgress(value=0.0, bar_style='info', description='Progress:', layout=Layout(height='25px', width='50%'),…"
      ]
     },
     "metadata": {},
     "output_type": "display_data"
    },
    {
     "name": "stdout",
     "output_type": "stream",
     "text": [
      "SparkSession available as 'spark'.\n"
     ]
    },
    {
     "data": {
      "application/vnd.jupyter.widget-view+json": {
       "model_id": "",
       "version_major": 2,
       "version_minor": 0
      },
      "text/plain": [
       "FloatProgress(value=0.0, bar_style='info', description='Progress:', layout=Layout(height='25px', width='50%'),…"
      ]
     },
     "metadata": {},
     "output_type": "display_data"
    }
   ],
   "source": [
    "from pyspark.sql import SparkSession\n",
    "import pyspark.sql.functions  as F \n",
    "# udf, col, year, month, dayofmonth, hour, weekofyear, date_format\n",
    "from pyspark.sql.types import *"
   ]
  },
  {
   "cell_type": "markdown",
   "metadata": {
    "editable": true
   },
   "source": [
    "# Read CSV into Spark Dataframe"
   ]
  },
  {
   "cell_type": "code",
   "execution_count": null,
   "metadata": {
    "editable": true
   },
   "outputs": [],
   "source": []
  },
  {
   "cell_type": "code",
   "execution_count": 28,
   "metadata": {
    "editable": true,
    "execution": {
     "iopub.execute_input": "2022-02-11T01:33:46.983542Z",
     "iopub.status.busy": "2022-02-11T01:33:46.983204Z",
     "iopub.status.idle": "2022-02-11T01:33:58.386173Z",
     "shell.execute_reply": "2022-02-11T01:33:58.384894Z",
     "shell.execute_reply.started": "2022-02-11T01:33:46.983506Z"
    },
    "tags": []
   },
   "outputs": [
    {
     "data": {
      "application/vnd.jupyter.widget-view+json": {
       "model_id": "e691d767cc164dd08fa36c12b3b9cf7b",
       "version_major": 2,
       "version_minor": 0
      },
      "text/plain": [
       "VBox()"
      ]
     },
     "metadata": {},
     "output_type": "display_data"
    },
    {
     "data": {
      "application/vnd.jupyter.widget-view+json": {
       "model_id": "",
       "version_major": 2,
       "version_minor": 0
      },
      "text/plain": [
       "FloatProgress(value=0.0, bar_style='info', description='Progress:', layout=Layout(height='25px', width='50%'),…"
      ]
     },
     "metadata": {},
     "output_type": "display_data"
    }
   ],
   "source": [
    "df_btc = spark.read.csv('s3://patrickudacityde/Capstone_project/e-5Z34PVB9W57QX1CTO1QTRKD0V/Data/h5/spot/BTC-USDT_15m.csv',\n",
    "                   header = True)\n",
    "df_eth = spark.read.csv('s3://patrickudacityde/Capstone_project/e-5Z34PVB9W57QX1CTO1QTRKD0V/Data/h5/spot/ETH-USDT_15m.csv',\n",
    "                   header = True)\n",
    "df_eos = spark.read.csv('s3://patrickudacityde/Capstone_project/e-5Z34PVB9W57QX1CTO1QTRKD0V/Data/h5/spot/EOS-USDT_15m.csv',\n",
    "                   header = True)"
   ]
  },
  {
   "cell_type": "code",
   "execution_count": 30,
   "metadata": {
    "editable": true,
    "execution": {
     "iopub.execute_input": "2022-02-11T01:36:06.454279Z",
     "iopub.status.busy": "2022-02-11T01:36:06.453956Z",
     "iopub.status.idle": "2022-02-11T01:36:15.840089Z",
     "shell.execute_reply": "2022-02-11T01:36:15.838890Z",
     "shell.execute_reply.started": "2022-02-11T01:36:06.454243Z"
    },
    "tags": []
   },
   "outputs": [
    {
     "data": {
      "application/vnd.jupyter.widget-view+json": {
       "model_id": "b001d31b9d78478b90c4ad835a85ee19",
       "version_major": 2,
       "version_minor": 0
      },
      "text/plain": [
       "VBox()"
      ]
     },
     "metadata": {},
     "output_type": "display_data"
    },
    {
     "data": {
      "application/vnd.jupyter.widget-view+json": {
       "model_id": "",
       "version_major": 2,
       "version_minor": 0
      },
      "text/plain": [
       "FloatProgress(value=0.0, bar_style='info', description='Progress:', layout=Layout(height='25px', width='50%'),…"
      ]
     },
     "metadata": {},
     "output_type": "display_data"
    },
    {
     "name": "stdout",
     "output_type": "stream",
     "text": [
      "+---+--------------------+--------+--------+--------+--------+----------+\n",
      "|_c0|   candle_begin_time|    open|    high|     low|   close|    volume|\n",
      "+---+--------------------+--------+--------+--------+--------+----------+\n",
      "|  0|2018-01-01 00:00:...|13715.65|13715.65|13400.01|13556.15|123.616013|\n",
      "|  1|2018-01-01 00:15:...|13533.75|13550.87| 13402.0|13521.12|  98.13643|\n",
      "|  2|2018-01-01 00:30:...| 13500.0|13545.37| 13450.0|13470.41| 79.904037|\n",
      "|  3|2018-01-01 00:45:...|13494.65|13690.87| 13450.0|13529.01|141.699719|\n",
      "|  4|2018-01-01 01:00:...|13528.99|13571.74|13402.28|13445.63| 72.537533|\n",
      "|  5|2018-01-01 01:15:...|13469.99|13595.89|13445.63| 13560.0| 87.861758|\n",
      "|  6|2018-01-01 01:30:...|13559.99|13559.99| 13430.0|13440.01| 74.368405|\n",
      "|  7|2018-01-01 01:45:...|13440.01|13440.01|13155.38|13203.06| 148.92931|\n",
      "|  8|2018-01-01 02:00:...| 13203.0|13411.76|13202.03| 13387.0| 108.54247|\n",
      "|  9|2018-01-01 02:15:...| 13387.0| 13388.0| 13225.0| 13225.0| 95.186039|\n",
      "+---+--------------------+--------+--------+--------+--------+----------+\n",
      "only showing top 10 rows"
     ]
    }
   ],
   "source": [
    "df_btc.show(10)"
   ]
  },
  {
   "cell_type": "markdown",
   "metadata": {
    "editable": true
   },
   "source": [
    "# Data Count/size"
   ]
  },
  {
   "cell_type": "code",
   "execution_count": 35,
   "metadata": {
    "editable": true,
    "execution": {
     "iopub.execute_input": "2022-02-11T01:40:37.179643Z",
     "iopub.status.busy": "2022-02-11T01:40:37.179297Z",
     "iopub.status.idle": "2022-02-11T01:40:38.505755Z",
     "shell.execute_reply": "2022-02-11T01:40:38.504179Z",
     "shell.execute_reply.started": "2022-02-11T01:40:37.179608Z"
    }
   },
   "outputs": [
    {
     "data": {
      "application/vnd.jupyter.widget-view+json": {
       "model_id": "96dc7bb31d9f42ceb2fb205452e112d6",
       "version_major": 2,
       "version_minor": 0
      },
      "text/plain": [
       "VBox()"
      ]
     },
     "metadata": {},
     "output_type": "display_data"
    },
    {
     "data": {
      "application/vnd.jupyter.widget-view+json": {
       "model_id": "",
       "version_major": 2,
       "version_minor": 0
      },
      "text/plain": [
       "FloatProgress(value=0.0, bar_style='info', description='Progress:', layout=Layout(height='25px', width='50%'),…"
      ]
     },
     "metadata": {},
     "output_type": "display_data"
    },
    {
     "name": "stdout",
     "output_type": "stream",
     "text": [
      "143091\n",
      "143091\n",
      "129101"
     ]
    }
   ],
   "source": [
    "for parquet in [df_btc,df_eth,df_eos]:\n",
    "    print(parquet.count())"
   ]
  },
  {
   "cell_type": "markdown",
   "metadata": {
    "editable": true
   },
   "source": [
    "# Data Quality check "
   ]
  },
  {
   "cell_type": "code",
   "execution_count": 33,
   "metadata": {
    "editable": true,
    "execution": {
     "iopub.execute_input": "2022-02-11T01:39:28.308921Z",
     "iopub.status.busy": "2022-02-11T01:39:28.308595Z",
     "iopub.status.idle": "2022-02-11T01:39:51.927902Z",
     "shell.execute_reply": "2022-02-11T01:39:51.926967Z",
     "shell.execute_reply.started": "2022-02-11T01:39:28.308886Z"
    },
    "tags": []
   },
   "outputs": [
    {
     "data": {
      "application/vnd.jupyter.widget-view+json": {
       "model_id": "8b7d455e8a8741d0bcb1c09a5fe00175",
       "version_major": 2,
       "version_minor": 0
      },
      "text/plain": [
       "VBox()"
      ]
     },
     "metadata": {},
     "output_type": "display_data"
    },
    {
     "data": {
      "application/vnd.jupyter.widget-view+json": {
       "model_id": "",
       "version_major": 2,
       "version_minor": 0
      },
      "text/plain": [
       "FloatProgress(value=0.0, bar_style='info', description='Progress:', layout=Layout(height='25px', width='50%'),…"
      ]
     },
     "metadata": {},
     "output_type": "display_data"
    }
   ],
   "source": [
    "# check missing value and drop the rows with missing value\n",
    "empty_data_info = []\n",
    "for parquet in [df_btc,df_eth,df_eos]:\n",
    "    for col in parquet.columns:\n",
    "        if parquet.filter(F.col(col).isNull()).count() > 0:\n",
    "            empty_data_info.append([col,'has null value'])\n",
    "            parquet = parquet.filter(F.col(col).isNotNull())\n",
    "            "
   ]
  },
  {
   "cell_type": "code",
   "execution_count": 34,
   "metadata": {
    "editable": true,
    "execution": {
     "iopub.execute_input": "2022-02-11T01:39:51.929917Z",
     "iopub.status.busy": "2022-02-11T01:39:51.929556Z",
     "iopub.status.idle": "2022-02-11T01:39:52.054067Z",
     "shell.execute_reply": "2022-02-11T01:39:52.052698Z",
     "shell.execute_reply.started": "2022-02-11T01:39:51.929863Z"
    }
   },
   "outputs": [
    {
     "data": {
      "application/vnd.jupyter.widget-view+json": {
       "model_id": "7ba0768794f94d74acd819fabb237c6b",
       "version_major": 2,
       "version_minor": 0
      },
      "text/plain": [
       "VBox()"
      ]
     },
     "metadata": {},
     "output_type": "display_data"
    },
    {
     "data": {
      "application/vnd.jupyter.widget-view+json": {
       "model_id": "",
       "version_major": 2,
       "version_minor": 0
      },
      "text/plain": [
       "FloatProgress(value=0.0, bar_style='info', description='Progress:', layout=Layout(height='25px', width='50%'),…"
      ]
     },
     "metadata": {},
     "output_type": "display_data"
    },
    {
     "name": "stdout",
     "output_type": "stream",
     "text": [
      "[]"
     ]
    }
   ],
   "source": [
    "empty_data_info\n",
    "# NO empty entry"
   ]
  },
  {
   "cell_type": "code",
   "execution_count": 43,
   "metadata": {
    "editable": true,
    "execution": {
     "iopub.execute_input": "2022-02-11T02:03:59.155646Z",
     "iopub.status.busy": "2022-02-11T02:03:59.155093Z",
     "iopub.status.idle": "2022-02-11T02:04:04.237893Z",
     "shell.execute_reply": "2022-02-11T02:04:04.224905Z",
     "shell.execute_reply.started": "2022-02-11T02:03:59.155583Z"
    },
    "tags": []
   },
   "outputs": [
    {
     "data": {
      "application/vnd.jupyter.widget-view+json": {
       "model_id": "3f1ff9304e7643cba57dce13863efe9a",
       "version_major": 2,
       "version_minor": 0
      },
      "text/plain": [
       "VBox()"
      ]
     },
     "metadata": {},
     "output_type": "display_data"
    },
    {
     "data": {
      "application/vnd.jupyter.widget-view+json": {
       "model_id": "",
       "version_major": 2,
       "version_minor": 0
      },
      "text/plain": [
       "FloatProgress(value=0.0, bar_style='info', description='Progress:', layout=Layout(height='25px', width='50%'),…"
      ]
     },
     "metadata": {},
     "output_type": "display_data"
    },
    {
     "name": "stdout",
     "output_type": "stream",
     "text": [
      "no duplicate entry\n",
      "no duplicate entry\n",
      "no duplicate entry"
     ]
    }
   ],
   "source": [
    "# check duplicate entry\n",
    "\n",
    "for parquet in [df_btc,df_eth,df_eos]:\n",
    "    if parquet.groupBy('candle_begin_time').count().filter(\"count >1\").count() > 0:\n",
    "        print (\"{} has duplicate records\".format(parquet))\n",
    "    else: print (\"no duplicate entry\")"
   ]
  },
  {
   "cell_type": "markdown",
   "metadata": {
    "editable": true
   },
   "source": [
    "# Save Parquet"
   ]
  },
  {
   "cell_type": "code",
   "execution_count": null,
   "metadata": {
    "editable": true
   },
   "outputs": [],
   "source": [
    "\n",
    "for t in ['BTC-USDT_15m.csv','ETH-USDT_15m.csv','EOS-USDT_15m.csv']:\n",
    "    df = spark.read.csv('s3://patrickudacityde/Capstone_project/e-5Z34PVB9W57QX1CTO1QTRKD0V/Data/h5/spot/{}'\\\n",
    "                        .format(t),header = True)\n",
    "    empty_data_info = []\n",
    "    for parquet in [df_btc,df_eth,df_eos]:\n",
    "        for col in parquet.columns:\n",
    "            if parquet.filter(F.col(col).isNull()).count() > 0:\n",
    "                empty_data_info.append([col,'has null value'])\n",
    "                parquet = parquet.filter(F.col(col).isNotNull())\n",
    "                logger.write(empty_data_info)\n",
    "    for parquet in [df_btc,df_eth,df_eos]:\n",
    "        if parquet.groupBy('candle_begin_time').count().filter(\"count >1\").count() > 0:\n",
    "            print (\"{} has duplicate records\".format(parquet))\n",
    "        else: print (\"no duplicate entry\")\n",
    "    spark.write.parquet(\"s3://patrickudacityde/Capstone_project/e-5Z34PVB9W57QX1CTO1QTRKD0V/Data/h5/spot/{}\"\\\n",
    "                       .format(t.replace(\".csv\",\"\")))"
   ]
  },
  {
   "cell_type": "code",
   "execution_count": null,
   "metadata": {
    "editable": true
   },
   "outputs": [],
   "source": []
  },
  {
   "cell_type": "code",
   "execution_count": null,
   "metadata": {
    "editable": true
   },
   "outputs": [],
   "source": []
  },
  {
   "cell_type": "markdown",
   "metadata": {
    "editable": true
   },
   "source": []
  },
  {
   "cell_type": "code",
   "execution_count": null,
   "metadata": {
    "editable": true
   },
   "outputs": [],
   "source": []
  }
 ],
 "metadata": {
  "kernelspec": {
   "display_name": "Python 3",
   "language": "python",
   "name": "python3"
  },
  "language_info": {
   "codemirror_mode": {
    "name": "ipython",
    "version": 3
   },
   "file_extension": ".py",
   "mimetype": "text/x-python",
   "name": "python",
   "nbconvert_exporter": "python",
   "pygments_lexer": "ipython3",
   "version": "3.6.3"
  }
 },
 "nbformat": 4,
 "nbformat_minor": 5
}
